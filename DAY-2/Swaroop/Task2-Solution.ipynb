{
 "cells": [
  {
   "cell_type": "code",
   "execution_count": 1,
   "id": "a28a5771-5e71-4c5d-a5bc-48789d3c1dc0",
   "metadata": {},
   "outputs": [],
   "source": [
    "my_list = [5, 10, 15, 20, 25]"
   ]
  },
  {
   "cell_type": "code",
   "execution_count": 3,
   "id": "02cb71be-5d6a-4269-a974-403200d6ff25",
   "metadata": {},
   "outputs": [],
   "source": [
    "my_list.append(30)"
   ]
  },
  {
   "cell_type": "code",
   "execution_count": 4,
   "id": "2b28f0fb-55e2-4f82-b4ba-d243da79deca",
   "metadata": {},
   "outputs": [
    {
     "name": "stdout",
     "output_type": "stream",
     "text": [
      "[5, 10, 15, 20, 25, 30]\n"
     ]
    }
   ],
   "source": [
    "print(my_list)"
   ]
  },
  {
   "cell_type": "code",
   "execution_count": 5,
   "id": "50634e1d-bc73-42b7-afda-8c1cb22bb389",
   "metadata": {},
   "outputs": [
    {
     "name": "stdout",
     "output_type": "stream",
     "text": [
      "5\n",
      "10\n",
      "15\n",
      "20\n",
      "25\n",
      "30\n",
      "25 is present\n"
     ]
    }
   ],
   "source": [
    "for i in my_list:\n",
    "    print(i)\n",
    "\n",
    "if 25 in my_list:\n",
    "    print(\"25 is present\")\n",
    "else:\n",
    "    print(\"25 is not present\")"
   ]
  },
  {
   "cell_type": "code",
   "execution_count": 6,
   "id": "c53d3634-6164-46d4-b817-558226d6db79",
   "metadata": {},
   "outputs": [
    {
     "name": "stdout",
     "output_type": "stream",
     "text": [
      "dict_keys(['Name', 'Age', 'City'])\n",
      "dict_values(['Swaroop', 15, 'Mumbai'])\n"
     ]
    }
   ],
   "source": [
    "my_dict = {\"Name\":\"Swaroop\", \"Age\": 15, \"City\":\"Mumbai\"}\n",
    "print(my_dict.keys())\n",
    "print(my_dict.values())\n"
   ]
  },
  {
   "cell_type": "code",
   "execution_count": 7,
   "id": "74b1c81c-1a17-4064-a904-b168b9c98bb2",
   "metadata": {},
   "outputs": [],
   "source": [
    "setA = {1, 2, 3, 4}\n",
    "setB = {2, 4, 6, 8}"
   ]
  },
  {
   "cell_type": "code",
   "execution_count": 9,
   "id": "4f7f769f-9c52-4576-b79e-5afc899ba954",
   "metadata": {},
   "outputs": [
    {
     "name": "stdout",
     "output_type": "stream",
     "text": [
      "{1, 2, 3, 4, 6, 8}\n",
      "{2, 4}\n",
      "{1, 3}\n"
     ]
    }
   ],
   "source": [
    "union_set = setA.union(setB)\n",
    "print(union_set)\n",
    "intersect_set = setA.intersection(setB)\n",
    "print(intersect_set)\n",
    "diff_set = setA.difference(setB)\n",
    "print(diff_set)"
   ]
  },
  {
   "cell_type": "code",
   "execution_count": null,
   "id": "bc899497-b81d-4410-b2bc-011516cbd32e",
   "metadata": {},
   "outputs": [],
   "source": []
  }
 ],
 "metadata": {
  "kernelspec": {
   "display_name": "Python 3 (ipykernel)",
   "language": "python",
   "name": "python3"
  },
  "language_info": {
   "codemirror_mode": {
    "name": "ipython",
    "version": 3
   },
   "file_extension": ".py",
   "mimetype": "text/x-python",
   "name": "python",
   "nbconvert_exporter": "python",
   "pygments_lexer": "ipython3",
   "version": "3.12.0"
  }
 },
 "nbformat": 4,
 "nbformat_minor": 5
}
