{
 "cells": [
  {
   "cell_type": "code",
   "execution_count": 6,
   "id": "24b89513-a215-4f6e-9752-f549323a4cd4",
   "metadata": {},
   "outputs": [
    {
     "name": "stdout",
     "output_type": "stream",
     "text": [
      "0\n",
      "1\n",
      "1\n",
      "2\n",
      "3\n",
      "5\n",
      "8\n",
      "13\n",
      "21\n",
      "34\n"
     ]
    }
   ],
   "source": [
    "def generate_fibonacci(n):\n",
    "    first = 0\n",
    "    yield first\n",
    "    second = 1\n",
    "    yield second\n",
    "    # n-2 because 0 and 1 are already sent out\n",
    "    for i in range(0, n-2):\n",
    "        sum = first + second\n",
    "        first = second\n",
    "        second = sum\n",
    "        yield sum\n",
    "\n",
    "c = generate_fibonacci(10)\n",
    "\n",
    "for i in c:\n",
    "    print(i)\n",
    "\n"
   ]
  },
  {
   "cell_type": "code",
   "execution_count": null,
   "id": "1c6694f3-f04d-43bb-8b0e-7c79068ab3da",
   "metadata": {},
   "outputs": [],
   "source": []
  }
 ],
 "metadata": {
  "kernelspec": {
   "display_name": "Python 3 (ipykernel)",
   "language": "python",
   "name": "python3"
  },
  "language_info": {
   "codemirror_mode": {
    "name": "ipython",
    "version": 3
   },
   "file_extension": ".py",
   "mimetype": "text/x-python",
   "name": "python",
   "nbconvert_exporter": "python",
   "pygments_lexer": "ipython3",
   "version": "3.12.0"
  }
 },
 "nbformat": 4,
 "nbformat_minor": 5
}
