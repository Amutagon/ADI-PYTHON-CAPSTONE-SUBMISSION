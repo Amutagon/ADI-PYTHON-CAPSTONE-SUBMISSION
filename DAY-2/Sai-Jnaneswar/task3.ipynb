#!/usr/bin/env python
# coding: utf-8

# In[ ]:


1. Tuple Operations

a) Create a tuple with the following elements: 5, 10, 15, 20, 25. Print the tuple.

b) Access the element at index 2 and print it.

c) Check if 17 is present in the tuple. Print the result.

2. Named Tuple Operations

a) Import the namedtuple function from the collections module.

b) Create a named tuple 'Point' with fields 'x' and 'y'.

c) Create an instance of the 'Point' named tuple with values (3, 4). Print the instance.

d) Access the fields 'x' and 'y' of the named tuple instance and print their values.


# In[3]:


sampletuple = (5,10,15,20,25)
print(sampletuple)


# In[4]:


index2 = sampletuple[2]
print(index2)


# In[5]:


if 17 in sampletuple:
    print("found")
else:
    print("not found")


# In[8]:


from collections import namedtuple

Point = namedtuple(typename='point', field_names= ['x', 'y'])


# In[10]:


Sample = Point(3,4)

print(Sample)


# In[12]:


print("X :", Sample.x)
print("Y :", Sample.y)


# In[ ]:




