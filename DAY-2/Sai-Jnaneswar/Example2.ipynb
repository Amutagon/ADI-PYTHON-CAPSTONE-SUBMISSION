#!/usr/bin/env python
# coding: utf-8

# In[5]:


my_list = [3, 6, 9, 12, 15]


# In[6]:


my_list.append(18)


# In[7]:


my_list[2]=7


# In[8]:


my_list.remove(12)


# In[9]:


print(my_list)


# In[10]:


student_info = {'name': 'Alice', 'age': 20, 'major': 'Computer Science'}


# In[11]:


student_info["gpa"] = "35"


# In[14]:


keys = student_info.keys()
print(keys)

if "age" in keys: 
    print("exists")


# In[15]:


print(student_info)


# In[17]:


set1 = {1, 2, 3, 4, 5} 
set2 = {4, 5, 6, 7, 8}


# In[18]:


union = set1.union(set2)


# In[19]:


print(union)


# In[20]:


Intersection_set = set1.intersection(set2)
print(Intersection_set)


# In[22]:


differene_set = set1.difference(set2)
print(differene_set)


# In[ ]:




