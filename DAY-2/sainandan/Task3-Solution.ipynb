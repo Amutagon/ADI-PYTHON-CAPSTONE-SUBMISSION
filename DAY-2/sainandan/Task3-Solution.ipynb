{
 "cells": [
  {
   "cell_type": "code",
   "execution_count": 1,
   "id": "a0813719-eedc-4d27-8591-d3d673d00384",
   "metadata": {},
   "outputs": [],
   "source": [
    "my_tuple = (5, 10, 15, 20, 25)"
   ]
  },
  {
   "cell_type": "code",
   "execution_count": 2,
   "id": "8d25d17e-c21d-4ed6-9d6d-99131937684e",
   "metadata": {},
   "outputs": [
    {
     "name": "stdout",
     "output_type": "stream",
     "text": [
      "(5, 10, 15, 20, 25)\n"
     ]
    }
   ],
   "source": [
    "print(my_tuple)"
   ]
  },
  {
   "cell_type": "code",
   "execution_count": 3,
   "id": "88f8aa50-d4da-4661-8bee-93143e8c24b3",
   "metadata": {},
   "outputs": [],
   "source": [
    "element_at_idx_2 = my_tuple[2]"
   ]
  },
  {
   "cell_type": "code",
   "execution_count": 4,
   "id": "5f6df672-72cc-4a4d-a11a-113222b2fbf7",
   "metadata": {},
   "outputs": [
    {
     "name": "stdout",
     "output_type": "stream",
     "text": [
      "15\n"
     ]
    }
   ],
   "source": [
    "print(element_at_idx_2)"
   ]
  },
  {
   "cell_type": "code",
   "execution_count": 6,
   "id": "3831accb-f1ba-4bee-8511-ddac89eddfd5",
   "metadata": {},
   "outputs": [
    {
     "name": "stdout",
     "output_type": "stream",
     "text": [
      "No, 17 is not present in my_tuple\n"
     ]
    }
   ],
   "source": [
    "if 17 in my_tuple:\n",
    "    print(\"Yes, 17 is present in my_tuple\")\n",
    "else:\n",
    "    print(\"No, 17 is not present in my_tuple\")"
   ]
  },
  {
   "cell_type": "code",
   "execution_count": 7,
   "id": "43e0ca7d-13d4-4919-8146-dd84141c7247",
   "metadata": {},
   "outputs": [],
   "source": [
    "from collections import namedtuple"
   ]
  },
  {
   "cell_type": "code",
   "execution_count": null,
   "id": "ea82db40-ffd2-42d9-aff7-5b7076e3c12b",
   "metadata": {},
   "outputs": [],
   "source": [
    "point = namedtup"
   ]
  }
 ],
 "metadata": {
  "kernelspec": {
   "display_name": "Python 3 (ipykernel)",
   "language": "python",
   "name": "python3"
  },
  "language_info": {
   "codemirror_mode": {
    "name": "ipython",
    "version": 3
   },
   "file_extension": ".py",
   "mimetype": "text/x-python",
   "name": "python",
   "nbconvert_exporter": "python",
   "pygments_lexer": "ipython3",
   "version": "3.10.10"
  }
 },
 "nbformat": 4,
 "nbformat_minor": 5
}
