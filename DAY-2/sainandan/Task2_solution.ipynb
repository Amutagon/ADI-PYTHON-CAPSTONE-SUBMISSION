{
 "cells": [
  {
   "cell_type": "markdown",
   "id": "f38d8269-c3d3-433a-a6c2-64ceb201f356",
   "metadata": {},
   "source": [
    "my_list = [3, 6, 9, 12, 15]"
   ]
  },
  {
   "cell_type": "code",
   "execution_count": 1,
   "id": "a0fdf811-0aa4-4624-8b93-7cfd2f78c49a",
   "metadata": {},
   "outputs": [],
   "source": [
    "my_list = [3, 6, 9 ,12, 15]"
   ]
  },
  {
   "cell_type": "code",
   "execution_count": 2,
   "id": "80d10fab-8ee4-4213-ae39-9000c48e1151",
   "metadata": {},
   "outputs": [],
   "source": [
    "my_list.append(18)"
   ]
  },
  {
   "cell_type": "code",
   "execution_count": 3,
   "id": "df58627a-6882-4004-8f92-8cedfa999bec",
   "metadata": {},
   "outputs": [
    {
     "name": "stdout",
     "output_type": "stream",
     "text": [
      "[3, 6, 9, 12, 15, 18]\n"
     ]
    }
   ],
   "source": [
    "print(my_list)"
   ]
  },
  {
   "cell_type": "code",
   "execution_count": 4,
   "id": "c7cfea46-4c9e-4da4-89e8-ab3f68503a9a",
   "metadata": {},
   "outputs": [],
   "source": [
    "my_list.remove(12)"
   ]
  },
  {
   "cell_type": "code",
   "execution_count": 5,
   "id": "f1c907e0-b651-4cdf-8fd0-4d31b40a6ab7",
   "metadata": {},
   "outputs": [
    {
     "name": "stdout",
     "output_type": "stream",
     "text": [
      "[3, 6, 9, 15, 18]\n"
     ]
    }
   ],
   "source": [
    "print(my_list)"
   ]
  },
  {
   "cell_type": "code",
   "execution_count": 6,
   "id": "40563aa1-225c-43f0-a906-395643706a2d",
   "metadata": {},
   "outputs": [],
   "source": [
    "student_info = {\"Name\" : \"Alice\", \"Age\" : 20, \"Major\" : \"Computer Science\"}"
   ]
  },
  {
   "cell_type": "code",
   "execution_count": 7,
   "id": "161035a6-c8b8-4c90-8a60-a851b28dd4aa",
   "metadata": {},
   "outputs": [],
   "source": [
    "student_info[\"GPA\"] = 3.5"
   ]
  },
  {
   "cell_type": "code",
   "execution_count": 9,
   "id": "d8591e22-0e44-4de7-b2c5-2ae664965347",
   "metadata": {},
   "outputs": [
    {
     "name": "stdout",
     "output_type": "stream",
     "text": [
      "Age key is present\n"
     ]
    }
   ],
   "source": [
    "if \"Age\" in student_info.keys():\n",
    "    print(\"Age key is present\")\n",
    "else:\n",
    "    print(\"Age key is not present\")"
   ]
  },
  {
   "cell_type": "code",
   "execution_count": 12,
   "id": "3a228160-142a-46bc-aacb-3c325fbf8e8b",
   "metadata": {},
   "outputs": [
    {
     "name": "stdout",
     "output_type": "stream",
     "text": [
      "Name -> Alice\n",
      "Age -> 20\n",
      "Major -> Computer Science\n",
      "GPA -> 3.5\n"
     ]
    }
   ],
   "source": [
    "for key, value in student_info.items():\n",
    "    print(f\"{key} -> {value}\")"
   ]
  },
  {
   "cell_type": "code",
   "execution_count": 13,
   "id": "aa17103b-dfb2-4251-b9c5-ba74550d4c35",
   "metadata": {},
   "outputs": [],
   "source": [
    "setA = {1, 2, 3, 4, 5}\n",
    "setB = {4, 5, 6, 7, 8}"
   ]
  },
  {
   "cell_type": "code",
   "execution_count": 14,
   "id": "830a9f02-5734-4d46-9ea7-4e3e308008e8",
   "metadata": {},
   "outputs": [
    {
     "name": "stdout",
     "output_type": "stream",
     "text": [
      "{1, 2, 3, 4, 5, 6, 7, 8}\n"
     ]
    }
   ],
   "source": [
    "union = setA.union(setB)\n",
    "print(union)"
   ]
  },
  {
   "cell_type": "code",
   "execution_count": 15,
   "id": "27a38cef-ddbd-48bc-8b3e-aa730156307f",
   "metadata": {},
   "outputs": [
    {
     "name": "stdout",
     "output_type": "stream",
     "text": [
      "{4, 5}\n"
     ]
    }
   ],
   "source": [
    "intersection = setA.intersection(setB)\n",
    "print(intersection)"
   ]
  },
  {
   "cell_type": "code",
   "execution_count": 16,
   "id": "a66bcd0a-a042-491d-a2a7-8c830ec270a6",
   "metadata": {},
   "outputs": [
    {
     "name": "stdout",
     "output_type": "stream",
     "text": [
      "{1, 2, 3}\n"
     ]
    }
   ],
   "source": [
    "a_diff_b = setA.difference(setB)\n",
    "print(a_diff_b)"
   ]
  },
  {
   "cell_type": "code",
   "execution_count": null,
   "id": "b31532e1-e923-46de-99b9-a2539dbd3464",
   "metadata": {},
   "outputs": [],
   "source": []
  }
 ],
 "metadata": {
  "kernelspec": {
   "display_name": "Python 3 (ipykernel)",
   "language": "python",
   "name": "python3"
  },
  "language_info": {
   "codemirror_mode": {
    "name": "ipython",
    "version": 3
   },
   "file_extension": ".py",
   "mimetype": "text/x-python",
   "name": "python",
   "nbconvert_exporter": "python",
   "pygments_lexer": "ipython3",
   "version": "3.10.10"
  }
 },
 "nbformat": 4,
 "nbformat_minor": 5
}
