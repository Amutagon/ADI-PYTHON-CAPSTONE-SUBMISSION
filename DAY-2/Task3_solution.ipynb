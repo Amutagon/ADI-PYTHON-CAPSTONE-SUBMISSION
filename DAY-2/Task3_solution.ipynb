{
 "cells": [
  {
   "cell_type": "code",
   "execution_count": 1,
   "id": "a28a5771-5e71-4c5d-a5bc-48789d3c1dc0",
   "metadata": {},
   "outputs": [
    {
     "name": "stdout",
     "output_type": "stream",
     "text": [
      "15\n"
     ]
    }
   ],
   "source": [
    "my_tuple = (5, 10, 15, 20, 25)\n",
    "print(my_tuple[2])"
   ]
  },
  {
   "cell_type": "code",
   "execution_count": 2,
   "id": "5c22d136-20b2-4cf9-87b2-2807cae584d4",
   "metadata": {},
   "outputs": [
    {
     "name": "stdout",
     "output_type": "stream",
     "text": [
      "17 not in tuple\n"
     ]
    }
   ],
   "source": [
    "if 17 in my_tuple:\n",
    "    print(\"17 in tuple\")\n",
    "else:\n",
    "    print(\"17 not in tuple\")"
   ]
  },
  {
   "cell_type": "code",
   "execution_count": 4,
   "id": "0a64fea1-cc68-4157-ac5a-ba1626e1b9a2",
   "metadata": {},
   "outputs": [],
   "source": [
    "from collections import namedtuple"
   ]
  },
  {
   "cell_type": "code",
   "execution_count": 5,
   "id": "3928e8bc-6af7-490c-94d7-140962f440e2",
   "metadata": {},
   "outputs": [],
   "source": [
    "Point = namedtuple(\"Point\", ['x', 'y'])\n",
    "p1 = Point(3,4)"
   ]
  },
  {
   "cell_type": "code",
   "execution_count": 6,
   "id": "a435075a-ee0f-4693-a11f-ea9834d8f5e0",
   "metadata": {},
   "outputs": [
    {
     "name": "stdout",
     "output_type": "stream",
     "text": [
      "x:  3\n",
      "y:  4\n"
     ]
    }
   ],
   "source": [
    "print(\"x: \", p1.x)\n",
    "print(\"y: \", p1.y)"
   ]
  },
  {
   "cell_type": "code",
   "execution_count": 8,
   "id": "4b470b04-0c61-45b4-926b-fc723085a11a",
   "metadata": {},
   "outputs": [
    {
     "name": "stdout",
     "output_type": "stream",
     "text": [
      "x:  3\n",
      "y:  4\n"
     ]
    }
   ],
   "source": [
    "print(\"x: \", p1[0])\n",
    "print(\"y: \", p1[1])"
   ]
  },
  {
   "cell_type": "code",
   "execution_count": null,
   "id": "24b89513-a215-4f6e-9752-f549323a4cd4",
   "metadata": {},
   "outputs": [],
   "source": []
  }
 ],
 "metadata": {
  "kernelspec": {
   "display_name": "Python 3 (ipykernel)",
   "language": "python",
   "name": "python3"
  },
  "language_info": {
   "codemirror_mode": {
    "name": "ipython",
    "version": 3
   },
   "file_extension": ".py",
   "mimetype": "text/x-python",
   "name": "python",
   "nbconvert_exporter": "python",
   "pygments_lexer": "ipython3",
   "version": "3.12.0"
  }
 },
 "nbformat": 4,
 "nbformat_minor": 5
}
