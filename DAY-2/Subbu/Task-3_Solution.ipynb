{
 "cells": [
  {
   "cell_type": "code",
   "execution_count": 1,
   "id": "8f6ab454-dcbe-459a-8512-da2cc844c07f",
   "metadata": {},
   "outputs": [
    {
     "name": "stdout",
     "output_type": "stream",
     "text": [
      "(5, 10, 15, 20, 25)\n"
     ]
    }
   ],
   "source": [
    "my_tuple = (5, 10, 15, 20, 25)\n",
    "print(my_tuple)"
   ]
  },
  {
   "cell_type": "code",
   "execution_count": 2,
   "id": "308625cd-0141-463e-ab6d-28eae2548311",
   "metadata": {},
   "outputs": [
    {
     "name": "stdout",
     "output_type": "stream",
     "text": [
      "15\n"
     ]
    }
   ],
   "source": [
    "element_at_index_2 = my_tuple[2]  # Access and print the element at index 2\n",
    "print(element_at_index_2)"
   ]
  },
  {
   "cell_type": "code",
   "execution_count": 3,
   "id": "1ed4d6ad-d508-4abc-9fc0-743d1cecf834",
   "metadata": {},
   "outputs": [
    {
     "name": "stdout",
     "output_type": "stream",
     "text": [
      "17 is not present in the tuple.\n"
     ]
    }
   ],
   "source": [
    "if 17 in my_tuple:\n",
    "    print(\"17 is present in the tuple.\")\n",
    "else:\n",
    "    print(\"17 is not present in the tuple.\")"
   ]
  },
  {
   "cell_type": "code",
   "execution_count": 4,
   "id": "dc245ea9-3571-4ad0-ab8a-21a30c8cd264",
   "metadata": {},
   "outputs": [],
   "source": [
    "from collections import namedtuple"
   ]
  },
  {
   "cell_type": "code",
   "execution_count": 5,
   "id": "afb4b72b-4deb-41df-aeba-b5e8b006e060",
   "metadata": {},
   "outputs": [],
   "source": [
    "Point = namedtuple('Point', ['x', 'y']) # named tuple 'Point' with fields 'x' and 'y'"
   ]
  },
  {
   "cell_type": "code",
   "execution_count": 6,
   "id": "019370cb-aa59-43fe-8ba5-4c68a79fa4ab",
   "metadata": {},
   "outputs": [],
   "source": [
    "point1 = Point(x=3, y=4)"
   ]
  },
  {
   "cell_type": "code",
   "execution_count": null,
   "id": "b9b06b4c-4b48-41cb-ab76-32f6ae5ccc53",
   "metadata": {},
   "outputs": [],
   "source": [
    "print(\"x:\", point1.x)\n",
    "print(\"y:\", point1.y)"
   ]
  }
 ],
 "metadata": {
  "kernelspec": {
   "display_name": "Python 3 (ipykernel)",
   "language": "python",
   "name": "python3"
  },
  "language_info": {
   "codemirror_mode": {
    "name": "ipython",
    "version": 3
   },
   "file_extension": ".py",
   "mimetype": "text/x-python",
   "name": "python",
   "nbconvert_exporter": "python",
   "pygments_lexer": "ipython3",
   "version": "3.11.5"
  }
 },
 "nbformat": 4,
 "nbformat_minor": 5
}
