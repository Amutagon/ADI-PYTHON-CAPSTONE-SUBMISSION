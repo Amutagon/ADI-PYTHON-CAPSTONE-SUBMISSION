{
 "cells": [
  {
   "cell_type": "code",
   "execution_count": 1,
   "id": "4fef224d",
   "metadata": {},
   "outputs": [],
   "source": [
    "my_tuple = (5,10,15,20,25)"
   ]
  },
  {
   "cell_type": "code",
   "execution_count": 3,
   "id": "6fc8e8d5",
   "metadata": {},
   "outputs": [
    {
     "name": "stdout",
     "output_type": "stream",
     "text": [
      "15\n"
     ]
    }
   ],
   "source": [
    "element_at_index_2 = my_tuple[2]\n",
    "print(element_at_index_2)"
   ]
  },
  {
   "cell_type": "code",
   "execution_count": 4,
   "id": "6bbab659",
   "metadata": {},
   "outputs": [
    {
     "name": "stdout",
     "output_type": "stream",
     "text": [
      "No\n"
     ]
    }
   ],
   "source": [
    "if 17 in my_tuple:\n",
    "    print (\"yes\")\n",
    "else:\n",
    "    print(\"No\")"
   ]
  },
  {
   "cell_type": "code",
   "execution_count": 7,
   "id": "33686967",
   "metadata": {},
   "outputs": [],
   "source": [
    "from collections import namedtuple\n",
    "Point = namedtuple('Point',['x', 'y'])"
   ]
  },
  {
   "cell_type": "code",
   "execution_count": 9,
   "id": "4a3b495b",
   "metadata": {},
   "outputs": [
    {
     "name": "stdout",
     "output_type": "stream",
     "text": [
      "Point(x=3, y=4)\n"
     ]
    }
   ],
   "source": [
    "t_point = Point(3, 4)\n",
    "print(t_point)"
   ]
  },
  {
   "cell_type": "code",
   "execution_count": 10,
   "id": "73c91c36",
   "metadata": {},
   "outputs": [
    {
     "name": "stdout",
     "output_type": "stream",
     "text": [
      "X: 3\n",
      "Y: 4\n"
     ]
    }
   ],
   "source": [
    "print(\"X:\", t_point.x)\n",
    "print(\"Y:\", t_point.y)"
   ]
  }
 ],
 "metadata": {
  "kernelspec": {
   "display_name": "Python 3 (ipykernel)",
   "language": "python",
   "name": "python3"
  },
  "language_info": {
   "codemirror_mode": {
    "name": "ipython",
    "version": 3
   },
   "file_extension": ".py",
   "mimetype": "text/x-python",
   "name": "python",
   "nbconvert_exporter": "python",
   "pygments_lexer": "ipython3",
   "version": "3.7.9"
  }
 },
 "nbformat": 4,
 "nbformat_minor": 5
}
