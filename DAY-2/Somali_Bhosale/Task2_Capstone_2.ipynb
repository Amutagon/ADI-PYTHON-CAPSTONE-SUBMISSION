{
 "cells": [
  {
   "cell_type": "code",
   "execution_count": 1,
   "id": "a0061c41",
   "metadata": {},
   "outputs": [],
   "source": [
    "my_list = [3, 6, 9, 12, 15]"
   ]
  },
  {
   "cell_type": "code",
   "execution_count": 2,
   "id": "1ce974ae",
   "metadata": {},
   "outputs": [
    {
     "name": "stdout",
     "output_type": "stream",
     "text": [
      "[3, 6, 9, 12, 15, 18]\n"
     ]
    }
   ],
   "source": [
    "my_list.append(18)\n",
    "print(my_list)"
   ]
  },
  {
   "cell_type": "code",
   "execution_count": 3,
   "id": "37f61cd8",
   "metadata": {},
   "outputs": [
    {
     "name": "stdout",
     "output_type": "stream",
     "text": [
      "[3, 6, 7, 9, 12, 15, 18]\n"
     ]
    }
   ],
   "source": [
    "my_list.insert(2,7)\n",
    "print(my_list)"
   ]
  },
  {
   "cell_type": "code",
   "execution_count": 6,
   "id": "bbf662fd",
   "metadata": {},
   "outputs": [
    {
     "data": {
      "text/plain": [
       "12"
      ]
     },
     "execution_count": 6,
     "metadata": {},
     "output_type": "execute_result"
    }
   ],
   "source": [
    "my_list.pop(4)"
   ]
  },
  {
   "cell_type": "code",
   "execution_count": 8,
   "id": "0af4bfa9",
   "metadata": {},
   "outputs": [
    {
     "data": {
      "text/plain": [
       "[3, 6, 7, 9, 18]"
      ]
     },
     "execution_count": 8,
     "metadata": {},
     "output_type": "execute_result"
    }
   ],
   "source": [
    "my_list"
   ]
  },
  {
   "cell_type": "code",
   "execution_count": 7,
   "id": "7fa45b3d",
   "metadata": {},
   "outputs": [],
   "source": [
    "student_info = {'name': 'Alice', 'age': 20, 'major': 'Computer Science'}"
   ]
  },
  {
   "cell_type": "code",
   "execution_count": 9,
   "id": "d9845779",
   "metadata": {},
   "outputs": [],
   "source": [
    "student_info[\"gpa\"]=3.5"
   ]
  },
  {
   "cell_type": "code",
   "execution_count": 10,
   "id": "6e9b7c8b",
   "metadata": {},
   "outputs": [
    {
     "name": "stdout",
     "output_type": "stream",
     "text": [
      "{'name': 'Alice', 'age': 20, 'major': 'Computer Science', 'gpa': 3.5}\n"
     ]
    }
   ],
   "source": [
    "print(student_info)"
   ]
  },
  {
   "cell_type": "code",
   "execution_count": 11,
   "id": "b3a03681",
   "metadata": {},
   "outputs": [
    {
     "name": "stdout",
     "output_type": "stream",
     "text": [
      "Available\n"
     ]
    }
   ],
   "source": [
    "if \"age\" in student_info.keys():\n",
    "    print(\"Available\")\n",
    "else:\n",
    "    print(\"Unavailable\")"
   ]
  },
  {
   "cell_type": "code",
   "execution_count": 12,
   "id": "eae27035",
   "metadata": {},
   "outputs": [
    {
     "name": "stdout",
     "output_type": "stream",
     "text": [
      "{'name': 'Alice', 'age': 20, 'major': 'Computer Science', 'gpa': 3.5}\n"
     ]
    }
   ],
   "source": [
    "print(student_info)"
   ]
  },
  {
   "cell_type": "code",
   "execution_count": 13,
   "id": "4b6a26a4",
   "metadata": {},
   "outputs": [],
   "source": [
    "set1 = {1, 2, 3, 4, 5} "
   ]
  },
  {
   "cell_type": "code",
   "execution_count": 15,
   "id": "91349265",
   "metadata": {},
   "outputs": [],
   "source": [
    "set2 = {4, 5, 6, 7, 8}"
   ]
  },
  {
   "cell_type": "code",
   "execution_count": 16,
   "id": "4c3af57a",
   "metadata": {},
   "outputs": [],
   "source": [
    "union_set = set1.union(set2)"
   ]
  },
  {
   "cell_type": "code",
   "execution_count": 17,
   "id": "709d5b44",
   "metadata": {},
   "outputs": [
    {
     "name": "stdout",
     "output_type": "stream",
     "text": [
      "{1, 2, 3, 4, 5, 6, 7, 8}\n"
     ]
    }
   ],
   "source": [
    "print(union_set)"
   ]
  },
  {
   "cell_type": "code",
   "execution_count": 18,
   "id": "da3a9e29",
   "metadata": {},
   "outputs": [
    {
     "name": "stdout",
     "output_type": "stream",
     "text": [
      "{4, 5}\n"
     ]
    }
   ],
   "source": [
    "int_set = set1.intersection(set2)\n",
    "print(int_set)"
   ]
  },
  {
   "cell_type": "code",
   "execution_count": 19,
   "id": "b17aa124",
   "metadata": {},
   "outputs": [
    {
     "name": "stdout",
     "output_type": "stream",
     "text": [
      "{1, 2, 3}\n"
     ]
    }
   ],
   "source": [
    "diff_set = set1.difference(set2)\n",
    "print(diff_set)"
   ]
  }
 ],
 "metadata": {
  "kernelspec": {
   "display_name": "Python 3 (ipykernel)",
   "language": "python",
   "name": "python3"
  },
  "language_info": {
   "codemirror_mode": {
    "name": "ipython",
    "version": 3
   },
   "file_extension": ".py",
   "mimetype": "text/x-python",
   "name": "python",
   "nbconvert_exporter": "python",
   "pygments_lexer": "ipython3",
   "version": "3.7.9"
  }
 },
 "nbformat": 4,
 "nbformat_minor": 5
}
