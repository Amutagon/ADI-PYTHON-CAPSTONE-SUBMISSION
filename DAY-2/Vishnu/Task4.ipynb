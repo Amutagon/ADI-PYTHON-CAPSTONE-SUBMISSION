{
 "cells": [
  {
   "cell_type": "code",
   "execution_count": 5,
   "metadata": {},
   "outputs": [
    {
     "name": "stdout",
     "output_type": "stream",
     "text": [
      "0\n",
      "1\n",
      "1\n",
      "2\n",
      "3\n",
      "5\n",
      "8\n",
      "13\n",
      "21\n"
     ]
    }
   ],
   "source": [
    "def gen_fib(i):\n",
    "    \n",
    "    yield 0\n",
    "    yield 1\n",
    "    a = 0\n",
    "    b = 1\n",
    "    for i in range(1, i-2):\n",
    "        res = a + b\n",
    "        a = b\n",
    "        b = res\n",
    "        yield res\n",
    "        \n",
    "fib = gen_fib(10)\n",
    "\n",
    "for i in fib:\n",
    "    print(i)\n",
    "    \n",
    "    "
   ]
  }
 ],
 "metadata": {
  "kernelspec": {
   "display_name": "Python 3",
   "language": "python",
   "name": "python3"
  },
  "language_info": {
   "codemirror_mode": {
    "name": "ipython",
    "version": 3
   },
   "file_extension": ".py",
   "mimetype": "text/x-python",
   "name": "python",
   "nbconvert_exporter": "python",
   "pygments_lexer": "ipython3",
   "version": "3.8.3"
  }
 },
 "nbformat": 4,
 "nbformat_minor": 4
}
