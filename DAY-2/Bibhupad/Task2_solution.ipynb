{
 "cells": [
  {
   "cell_type": "code",
   "execution_count": 3,
   "id": "6237a7de",
   "metadata": {},
   "outputs": [],
   "source": [
    "my_list = [5,10,15,20,25]"
   ]
  },
  {
   "cell_type": "code",
   "execution_count": 4,
   "id": "e96a7771",
   "metadata": {},
   "outputs": [
    {
     "name": "stdout",
     "output_type": "stream",
     "text": [
      "[5, 10, 15, 20, 25]\n"
     ]
    }
   ],
   "source": [
    "print(my_list)"
   ]
  },
  {
   "cell_type": "code",
   "execution_count": 5,
   "id": "6921cd39",
   "metadata": {},
   "outputs": [
    {
     "name": "stdout",
     "output_type": "stream",
     "text": [
      "[5, 10, 15, 20, 25, 30]\n"
     ]
    }
   ],
   "source": [
    "my_list.append(30)\n",
    "print(my_list)"
   ]
  },
  {
   "cell_type": "code",
   "execution_count": 7,
   "id": "7b1a9672",
   "metadata": {},
   "outputs": [
    {
     "name": "stdout",
     "output_type": "stream",
     "text": [
      "[5, 10, 20, 25, 30]\n"
     ]
    }
   ],
   "source": [
    "my_list.remove(15)\n",
    "print(my_list)"
   ]
  },
  {
   "cell_type": "code",
   "execution_count": 8,
   "id": "a59a1f2b",
   "metadata": {},
   "outputs": [
    {
     "name": "stdout",
     "output_type": "stream",
     "text": [
      "25 is present\n"
     ]
    }
   ],
   "source": [
    "if 25 in my_list:\n",
    "    print(\"25 is present\")\n",
    "else:\n",
    "    print(\"25 is not present\")"
   ]
  },
  {
   "cell_type": "code",
   "execution_count": 9,
   "id": "2e49355c",
   "metadata": {},
   "outputs": [
    {
     "name": "stdout",
     "output_type": "stream",
     "text": [
      "{'name': 'Rohit', 'age': '36', 'city': 'Mumbai'}\n"
     ]
    }
   ],
   "source": [
    "my_dict = {\"name\":\"Rohit\", \"age\":\"36\", \"city\":\"Mumbai\" }\n",
    "print(my_dict)"
   ]
  },
  {
   "cell_type": "code",
   "execution_count": 10,
   "id": "163cdc82",
   "metadata": {},
   "outputs": [
    {
     "name": "stdout",
     "output_type": "stream",
     "text": [
      "{'name': 'Rohit', 'age': '36', 'city': 'Mumbai', 'Country': 'India'}\n"
     ]
    }
   ],
   "source": [
    "my_dict[\"Country\"] = \"India\"\n",
    "print(my_dict)"
   ]
  },
  {
   "cell_type": "code",
   "execution_count": 11,
   "id": "4a4ca443",
   "metadata": {},
   "outputs": [
    {
     "name": "stdout",
     "output_type": "stream",
     "text": [
      "dict_keys(['name', 'age', 'city', 'Country'])\n",
      "dict_values(['Rohit', '36', 'Mumbai', 'India'])\n"
     ]
    }
   ],
   "source": [
    "print(my_dict.keys())\n",
    "print(my_dict.values())"
   ]
  },
  {
   "cell_type": "code",
   "execution_count": 13,
   "id": "fc6f2934",
   "metadata": {},
   "outputs": [],
   "source": [
    "setA = {1,2,3,4,5}\n",
    "setB = {4,5,6,7,8}"
   ]
  },
  {
   "cell_type": "code",
   "execution_count": 14,
   "id": "ad54fe63",
   "metadata": {},
   "outputs": [
    {
     "name": "stdout",
     "output_type": "stream",
     "text": [
      "{1, 2, 3, 4, 5, 6, 7, 8}\n"
     ]
    }
   ],
   "source": [
    "union_set = setA.union(setB)\n",
    "print(union_set)"
   ]
  },
  {
   "cell_type": "code",
   "execution_count": 16,
   "id": "857f99c4",
   "metadata": {},
   "outputs": [
    {
     "name": "stdout",
     "output_type": "stream",
     "text": [
      "{4, 5}\n"
     ]
    }
   ],
   "source": [
    "intersection_set = setA.intersection(setB)\n",
    "print(intersection_set)"
   ]
  },
  {
   "cell_type": "code",
   "execution_count": 17,
   "id": "9c849fd8",
   "metadata": {},
   "outputs": [
    {
     "name": "stdout",
     "output_type": "stream",
     "text": [
      "{1, 2, 3}\n"
     ]
    }
   ],
   "source": [
    "diff_set = setA.difference(setB)\n",
    "print(diff_set)"
   ]
  },
  {
   "cell_type": "code",
   "execution_count": 18,
   "id": "a143146b",
   "metadata": {},
   "outputs": [],
   "source": [
    "my_tuple = (5,10,15,20,25)"
   ]
  },
  {
   "cell_type": "code",
   "execution_count": 20,
   "id": "0b583b86",
   "metadata": {},
   "outputs": [
    {
     "name": "stdout",
     "output_type": "stream",
     "text": [
      "15\n"
     ]
    }
   ],
   "source": [
    "element_at_index2 = my_tuple[2]\n",
    "print(element_at_index2)"
   ]
  },
  {
   "cell_type": "code",
   "execution_count": 21,
   "id": "e906d858",
   "metadata": {},
   "outputs": [
    {
     "name": "stdout",
     "output_type": "stream",
     "text": [
      "no\n"
     ]
    }
   ],
   "source": [
    "if 17 in my_tuple:\n",
    "    print(\"yes\")\n",
    "else:\n",
    "    print(\"no\")"
   ]
  }
 ],
 "metadata": {
  "kernelspec": {
   "display_name": "Python 3 (ipykernel)",
   "language": "python",
   "name": "python3"
  },
  "language_info": {
   "codemirror_mode": {
    "name": "ipython",
    "version": 3
   },
   "file_extension": ".py",
   "mimetype": "text/x-python",
   "name": "python",
   "nbconvert_exporter": "python",
   "pygments_lexer": "ipython3",
   "version": "3.7.9"
  }
 },
 "nbformat": 4,
 "nbformat_minor": 5
}
