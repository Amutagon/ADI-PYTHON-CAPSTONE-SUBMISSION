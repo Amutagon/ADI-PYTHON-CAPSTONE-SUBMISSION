{
 "cells": [
  {
   "cell_type": "markdown",
   "id": "81fb228c-7173-493c-91fa-b207f517d2c1",
   "metadata": {},
   "source": [
    "1. List Manipulation"
   ]
  },
  {
   "cell_type": "code",
   "execution_count": 6,
   "id": "eaddd4ec-2f4e-4912-8f86-8240703c9e56",
   "metadata": {},
   "outputs": [],
   "source": [
    "my_list = [3, 6, 9, 12, 15]"
   ]
  },
  {
   "cell_type": "code",
   "execution_count": 2,
   "id": "a5713518-0c1d-4b78-804b-826fdc49eea4",
   "metadata": {},
   "outputs": [],
   "source": [
    "my_list.append(18)"
   ]
  },
  {
   "cell_type": "code",
   "execution_count": 3,
   "id": "d4bb6aa2-26cd-4b34-acde-fc0c5dd6c880",
   "metadata": {},
   "outputs": [],
   "source": [
    "my_list[1] = 7"
   ]
  },
  {
   "cell_type": "code",
   "execution_count": 4,
   "id": "5e09308b-77b9-4821-8f10-70af1d52a22a",
   "metadata": {},
   "outputs": [
    {
     "name": "stdout",
     "output_type": "stream",
     "text": [
      "[3, 7, 9, 12, 15, 18]\n"
     ]
    }
   ],
   "source": [
    "print(my_list)"
   ]
  },
  {
   "cell_type": "code",
   "execution_count": 5,
   "id": "a112e8e0-195c-4311-a8f3-ad1b91e72822",
   "metadata": {},
   "outputs": [
    {
     "name": "stdout",
     "output_type": "stream",
     "text": [
      "[3, 7, 9, 15, 18]\n"
     ]
    }
   ],
   "source": [
    "my_list.remove(12)\n",
    "print(my_list)"
   ]
  },
  {
   "cell_type": "markdown",
   "id": "bb84ecc2-05b3-4cba-a7d3-4b5215af131d",
   "metadata": {},
   "source": [
    "2. Dictionary Operations"
   ]
  },
  {
   "cell_type": "code",
   "execution_count": 7,
   "id": "e3cac6a3-123f-46af-8481-8a0db5fcb3cb",
   "metadata": {},
   "outputs": [],
   "source": [
    "student_info = {'name': 'Alice', 'age': 20, 'major': 'Computer Science'}"
   ]
  },
  {
   "cell_type": "code",
   "execution_count": 8,
   "id": "9fd7f853-d3bf-4928-8df1-3becdcf9affc",
   "metadata": {},
   "outputs": [],
   "source": [
    "student_info[\"gpa\"] = 3.5"
   ]
  },
  {
   "cell_type": "code",
   "execution_count": 10,
   "id": "5ad6388e-f444-4b06-95ad-67e3fbbd2b13",
   "metadata": {},
   "outputs": [
    {
     "name": "stdout",
     "output_type": "stream",
     "text": [
      "{'name': 'Alice', 'age': 20, 'major': 'Computer Science', 'gpa': 3.5}\n"
     ]
    }
   ],
   "source": [
    "print(student_info)"
   ]
  },
  {
   "cell_type": "code",
   "execution_count": 11,
   "id": "312710df-ac15-47e3-9020-8753bab8957b",
   "metadata": {},
   "outputs": [
    {
     "name": "stdout",
     "output_type": "stream",
     "text": [
      "Age is present in the dictionary.\n"
     ]
    }
   ],
   "source": [
    "if student_info.get('age') is not None:\n",
    "    print(\"Age is present in the dictionary.\")\n",
    "else:\n",
    "    print(\"Age is not present in the dictionary.\")"
   ]
  },
  {
   "cell_type": "code",
   "execution_count": null,
   "id": "623cd0a8-30c0-4c72-8b4e-a8c112ca6b56",
   "metadata": {},
   "outputs": [],
   "source": []
  }
 ],
 "metadata": {
  "kernelspec": {
   "display_name": "Python 3 (ipykernel)",
   "language": "python",
   "name": "python3"
  },
  "language_info": {
   "codemirror_mode": {
    "name": "ipython",
    "version": 3
   },
   "file_extension": ".py",
   "mimetype": "text/x-python",
   "name": "python",
   "nbconvert_exporter": "python",
   "pygments_lexer": "ipython3",
   "version": "3.8.2"
  }
 },
 "nbformat": 4,
 "nbformat_minor": 5
}
