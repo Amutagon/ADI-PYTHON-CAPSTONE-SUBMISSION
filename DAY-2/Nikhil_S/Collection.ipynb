{
 "cells": [
  {
   "cell_type": "code",
   "execution_count": 29,
   "id": "a93ba1c2",
   "metadata": {
    "scrolled": true
   },
   "outputs": [
    {
     "name": "stdout",
     "output_type": "stream",
     "text": [
      "[3, 6, 9, 12, 15]\n"
     ]
    }
   ],
   "source": [
    "my_list = [3,6,9,12,15]\n",
    "print(my_list)"
   ]
  },
  {
   "cell_type": "code",
   "execution_count": 30,
   "id": "e3a3fdb2",
   "metadata": {},
   "outputs": [
    {
     "data": {
      "text/plain": [
       "[3, 6, 9, 12, 15, 18]"
      ]
     },
     "execution_count": 30,
     "metadata": {},
     "output_type": "execute_result"
    }
   ],
   "source": [
    "my_list.append(18)\n",
    "my_list"
   ]
  },
  {
   "cell_type": "code",
   "execution_count": 32,
   "id": "2f194bcc",
   "metadata": {},
   "outputs": [
    {
     "name": "stdout",
     "output_type": "stream",
     "text": [
      "[3, 6, 7, 9, 12, 15, 18]\n"
     ]
    }
   ],
   "source": [
    "my_list.insert(2,7)\n",
    "print(my_list)"
   ]
  },
  {
   "cell_type": "code",
   "execution_count": 33,
   "id": "895063a0",
   "metadata": {
    "scrolled": true
   },
   "outputs": [
    {
     "name": "stdout",
     "output_type": "stream",
     "text": [
      "[3, 6, 7, 9, 15, 18]\n"
     ]
    }
   ],
   "source": [
    "my_list.remove(12)\n",
    "print(my_list)"
   ]
  },
  {
   "cell_type": "code",
   "execution_count": 34,
   "id": "04c8d72d",
   "metadata": {},
   "outputs": [
    {
     "name": "stdout",
     "output_type": "stream",
     "text": [
      "3\n",
      "6\n",
      "7\n",
      "9\n",
      "15\n",
      "18\n"
     ]
    }
   ],
   "source": [
    "for i in my_list:\n",
    "    print(i)"
   ]
  },
  {
   "cell_type": "code",
   "execution_count": 35,
   "id": "b5e2095f",
   "metadata": {},
   "outputs": [],
   "source": [
    "student_info = {'name': 'Alice', 'age': 20, 'major': 'Computer Science'}"
   ]
  },
  {
   "cell_type": "code",
   "execution_count": 39,
   "id": "745305cd",
   "metadata": {},
   "outputs": [],
   "source": [
    "student_info['gpa'] = 3.5"
   ]
  },
  {
   "cell_type": "code",
   "execution_count": 41,
   "id": "c46c616a",
   "metadata": {},
   "outputs": [
    {
     "name": "stdout",
     "output_type": "stream",
     "text": [
      "Age is present in dictionary\n"
     ]
    }
   ],
   "source": [
    "if 'age' in student_info.keys():\n",
    "    print(\"Age is present in dictionary\")\n",
    "else:\n",
    "    print(\"Age is not present in dictionary\")"
   ]
  },
  {
   "cell_type": "code",
   "execution_count": 42,
   "id": "dba5356a",
   "metadata": {},
   "outputs": [
    {
     "name": "stdout",
     "output_type": "stream",
     "text": [
      "{'name': 'Alice', 'age': 20, 'major': 'Computer Science', 'gpa': 3.5}\n"
     ]
    }
   ],
   "source": [
    "print(student_info)"
   ]
  },
  {
   "cell_type": "code",
   "execution_count": 43,
   "id": "01ab7903",
   "metadata": {},
   "outputs": [],
   "source": [
    "setA = {1,2,3,4,5}\n",
    "setB = {4,5,6,7,8}"
   ]
  },
  {
   "cell_type": "code",
   "execution_count": 44,
   "id": "322be3e5",
   "metadata": {
    "scrolled": true
   },
   "outputs": [
    {
     "name": "stdout",
     "output_type": "stream",
     "text": [
      "{1, 2, 3, 4, 5, 6, 7, 8}\n"
     ]
    }
   ],
   "source": [
    "union_set = setA.union(setB)\n",
    "print(union_set)"
   ]
  },
  {
   "cell_type": "code",
   "execution_count": 45,
   "id": "5df5fb4e",
   "metadata": {},
   "outputs": [
    {
     "name": "stdout",
     "output_type": "stream",
     "text": [
      "{4, 5}\n"
     ]
    }
   ],
   "source": [
    "intersection_set = setA.intersection(setB)\n",
    "print(intersection_set)"
   ]
  },
  {
   "cell_type": "code",
   "execution_count": 46,
   "id": "0483ebab",
   "metadata": {},
   "outputs": [
    {
     "name": "stdout",
     "output_type": "stream",
     "text": [
      "{1, 2, 3}\n"
     ]
    }
   ],
   "source": [
    "diff_set = setA.difference(setB)\n",
    "print(diff_set)"
   ]
  }
 ],
 "metadata": {
  "kernelspec": {
   "display_name": "Python 3 (ipykernel)",
   "language": "python",
   "name": "python3"
  },
  "language_info": {
   "codemirror_mode": {
    "name": "ipython",
    "version": 3
   },
   "file_extension": ".py",
   "mimetype": "text/x-python",
   "name": "python",
   "nbconvert_exporter": "python",
   "pygments_lexer": "ipython3",
   "version": "3.9.13"
  }
 },
 "nbformat": 4,
 "nbformat_minor": 5
}
