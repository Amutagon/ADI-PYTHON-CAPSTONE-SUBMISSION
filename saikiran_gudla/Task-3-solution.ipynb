{
 "cells": [
  {
   "cell_type": "code",
   "execution_count": 1,
   "id": "a7b05ace-fa7d-4d3d-9b49-6ef23c6bb2bb",
   "metadata": {},
   "outputs": [
    {
     "name": "stdout",
     "output_type": "stream",
     "text": [
      "(5, 10, 15, 20, 25)\n"
     ]
    }
   ],
   "source": [
    "my_tuple = (5, 10, 15, 20, 25)\n",
    "print(my_tuple)"
   ]
  },
  {
   "cell_type": "code",
   "execution_count": 2,
   "id": "090e1f5b-9360-405a-aa21-31bbf45fbbed",
   "metadata": {},
   "outputs": [
    {
     "name": "stdout",
     "output_type": "stream",
     "text": [
      "15\n"
     ]
    }
   ],
   "source": [
    "idx_2 = my_tuple[2]\n",
    "print(idx_2)"
   ]
  },
  {
   "cell_type": "code",
   "execution_count": 3,
   "id": "e963001f-efd1-4613-9b49-d8f94e41b31b",
   "metadata": {},
   "outputs": [
    {
     "name": "stdout",
     "output_type": "stream",
     "text": [
      "no\n"
     ]
    }
   ],
   "source": [
    "if 17 in my_tuple:\n",
    "    print(\"yes\")\n",
    "else:\n",
    "    print(\"no\")"
   ]
  },
  {
   "cell_type": "code",
   "execution_count": 4,
   "id": "1e93eb59-da95-48bb-a49b-4d3439dba117",
   "metadata": {},
   "outputs": [],
   "source": [
    "from collections import namedtuple"
   ]
  },
  {
   "cell_type": "code",
   "execution_count": 5,
   "id": "d7b3a81e-0142-41b6-a9f6-49bf3c3fa463",
   "metadata": {},
   "outputs": [],
   "source": [
    "Point = namedtuple(typename='Point', field_names=['x', 'y'])"
   ]
  },
  {
   "cell_type": "code",
   "execution_count": 6,
   "id": "cbb5452b-090f-49dc-bb97-932beabf5875",
   "metadata": {},
   "outputs": [],
   "source": [
    "my_point = Point(3, 4)"
   ]
  },
  {
   "cell_type": "code",
   "execution_count": 7,
   "id": "8e284a1b-c3d6-460d-8ed9-e4598bffe4af",
   "metadata": {},
   "outputs": [
    {
     "name": "stdout",
     "output_type": "stream",
     "text": [
      "Point(x=3, y=4)\n"
     ]
    }
   ],
   "source": [
    "print(my_point)"
   ]
  },
  {
   "cell_type": "code",
   "execution_count": 8,
   "id": "150167c0-eaa0-4750-9bd3-5d898f11c448",
   "metadata": {},
   "outputs": [
    {
     "name": "stdout",
     "output_type": "stream",
     "text": [
      "x: 3\n"
     ]
    }
   ],
   "source": [
    "print(\"x:\", my_point[0])"
   ]
  },
  {
   "cell_type": "code",
   "execution_count": 9,
   "id": "0743c082-fa2e-4b32-adab-b5e86d8654d3",
   "metadata": {},
   "outputs": [
    {
     "name": "stdout",
     "output_type": "stream",
     "text": [
      "y: 4\n"
     ]
    }
   ],
   "source": [
    "print(\"y:\", my_point[1])"
   ]
  },
  {
   "cell_type": "code",
   "execution_count": null,
   "id": "721d692e-b799-4caf-932d-40a526242549",
   "metadata": {},
   "outputs": [],
   "source": []
  }
 ],
 "metadata": {
  "kernelspec": {
   "display_name": "Python 3 (ipykernel)",
   "language": "python",
   "name": "python3"
  },
  "language_info": {
   "codemirror_mode": {
    "name": "ipython",
    "version": 3
   },
   "file_extension": ".py",
   "mimetype": "text/x-python",
   "name": "python",
   "nbconvert_exporter": "python",
   "pygments_lexer": "ipython3",
   "version": "3.10.6"
  }
 },
 "nbformat": 4,
 "nbformat_minor": 5
}
