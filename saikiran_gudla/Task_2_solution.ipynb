{
 "cells": [
  {
   "cell_type": "code",
   "execution_count": 15,
   "id": "a944f1db-0dd9-4cfe-820d-7b102a89f6aa",
   "metadata": {},
   "outputs": [
    {
     "name": "stdout",
     "output_type": "stream",
     "text": [
      "[3, 6, 9, 12, 15]\n"
     ]
    }
   ],
   "source": [
    "##List\n",
    "my_list = [3, 6, 9, 12, 15]\n",
    "print(my_list)"
   ]
  },
  {
   "cell_type": "code",
   "execution_count": 16,
   "id": "b425dc3d-1d75-4ae0-be36-dc470c6ad3fc",
   "metadata": {},
   "outputs": [
    {
     "name": "stdout",
     "output_type": "stream",
     "text": [
      "[3, 6, 9, 12, 15, 18]\n"
     ]
    }
   ],
   "source": [
    "my_list.append(18)\n",
    "print(my_list)"
   ]
  },
  {
   "cell_type": "code",
   "execution_count": 17,
   "id": "eefeb712-8f53-48bc-a95d-13aa97999c51",
   "metadata": {},
   "outputs": [
    {
     "name": "stdout",
     "output_type": "stream",
     "text": [
      "[3, 6, 7, 9, 12, 15, 18]\n"
     ]
    }
   ],
   "source": [
    "my_list.insert(2, 7)\n",
    "print(my_list)"
   ]
  },
  {
   "cell_type": "code",
   "execution_count": 18,
   "id": "65c42d85-2c3c-41ff-ace6-4a29d013470e",
   "metadata": {},
   "outputs": [
    {
     "name": "stdout",
     "output_type": "stream",
     "text": [
      "[3, 6, 7, 9, 15, 18]\n"
     ]
    }
   ],
   "source": [
    "my_list.remove(12)\n",
    "print(my_list)"
   ]
  },
  {
   "cell_type": "code",
   "execution_count": 19,
   "id": "64f11df9-e19a-494c-891d-f2da6716b608",
   "metadata": {},
   "outputs": [
    {
     "name": "stdout",
     "output_type": "stream",
     "text": [
      "Final List: [3, 6, 7, 9, 15, 18]\n"
     ]
    }
   ],
   "source": [
    "print(f\"Final List: {my_list}\")"
   ]
  },
  {
   "cell_type": "code",
   "execution_count": 14,
   "id": "c48de646-62c5-4f24-a163-5241dab8a02f",
   "metadata": {},
   "outputs": [],
   "source": [
    "##Dictionary"
   ]
  },
  {
   "cell_type": "code",
   "execution_count": 21,
   "id": "a4da0d8e-5470-498f-b8f5-0a2d8b7e0048",
   "metadata": {},
   "outputs": [],
   "source": [
    "student_info={'name': 'Alice', 'age': 20, 'major': 'Computer Science'}"
   ]
  },
  {
   "cell_type": "code",
   "execution_count": 22,
   "id": "aaebc921-e9b3-44e1-834a-8976f013b73e",
   "metadata": {},
   "outputs": [],
   "source": [
    "student_info['gpa']=3.5"
   ]
  },
  {
   "cell_type": "code",
   "execution_count": 24,
   "id": "fb74fcc4-3a09-40b1-9d92-674deff5192e",
   "metadata": {},
   "outputs": [
    {
     "name": "stdout",
     "output_type": "stream",
     "text": [
      "dict_keys(['name', 'age', 'major', 'gpa'])\n",
      "dict_values(['Alice', 20, 'Computer Science', 3.5])\n"
     ]
    }
   ],
   "source": [
    "print(student_info.keys())\n",
    "print(student_info.values())"
   ]
  },
  {
   "cell_type": "code",
   "execution_count": 25,
   "id": "a944969b-defb-4067-a51f-f8008126e34d",
   "metadata": {},
   "outputs": [],
   "source": [
    "##Set"
   ]
  },
  {
   "cell_type": "code",
   "execution_count": null,
   "id": "6f4717fa-960a-4986-ad01-939162863d4f",
   "metadata": {},
   "outputs": [],
   "source": [
    "set1="
   ]
  }
 ],
 "metadata": {
  "kernelspec": {
   "display_name": "Python 3 (ipykernel)",
   "language": "python",
   "name": "python3"
  },
  "language_info": {
   "codemirror_mode": {
    "name": "ipython",
    "version": 3
   },
   "file_extension": ".py",
   "mimetype": "text/x-python",
   "name": "python",
   "nbconvert_exporter": "python",
   "pygments_lexer": "ipython3",
   "version": "3.10.6"
  }
 },
 "nbformat": 4,
 "nbformat_minor": 5
}
